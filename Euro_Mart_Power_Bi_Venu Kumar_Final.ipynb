{
 "cells": [
  {
   "cell_type": "markdown",
   "metadata": {},
   "source": [
    "<h2><strong>Load Data in MySQL<strong></h2>\n",
    "<p><span style=\"color: #808080;\"> We need to import necessary libraries for performing loading, connecting with SQL and doing analysis</span></p>"
   ]
  },
  {
   "cell_type": "markdown",
   "metadata": {},
   "source": [
    "<h3><span style=\"color: #808080;\">Import Necessary Library</span></h3>\n",
    "<p data-sourcepos=\"3:1-3:41\"><span style=\"color: #ffcc00;\">Code Explanation:</span></p>\n",
    "<ul>\n",
    "<li ><span style=\"color: #808080;\">mysql.connector: Library offers connectivity to MySQL server to query from database</span></li>\n",
    "<li ><span style=\"color: #808080;\">numpy (np): Provides efficient numerical computation tools.</span></li>\n",
    "<li ><span style=\"color: #808080;\">pandas (pd): Offers data manipulation and analysis structures (DataFrames, Series).</span></li>\n",
    "<li ><span style=\"color: #808080;\">warnings (with warnings.filterwarnings(\"ignore\")): Suppresses warnings.</span></li>\n",
    "</ul>"
   ]
  },
  {
   "cell_type": "code",
   "execution_count": 17,
   "metadata": {},
   "outputs": [],
   "source": [
    "import mysql.connector\n",
    "import numpy as np\n",
    "import pandas as pd\n",
    "import warnings\n",
    "warnings.filterwarnings('ignore')"
   ]
  },
  {
   "cell_type": "markdown",
   "metadata": {},
   "source": [
    "<h3><span style=\"color: #808080;\">Establish a connection to the euro_mart database using MySQL Connector</span></h3>\n",
    "<p data-sourcepos=\"3:1-3:41\"><span style=\"color: #ffcc00;\">Code Explanation:</span></p>\n",
    "<ul>\n",
    "<li ><span style=\"color: #808080;\">Initialize a connection to a MySQL database named euro_mart on the local machine (localhost).</span></li>\n",
    "<li ><span style=\"color: #808080;\">Uses credentials with username and password</span></li>"
   ]
  },
  {
   "cell_type": "code",
   "execution_count": 18,
   "metadata": {},
   "outputs": [],
   "source": [
    "Connection = mysql.connector.connect(\n",
    "  host=\"localhost\",               #hostname\n",
    "  user=\"root\",                    #the user who has privilege to the db\n",
    "  passwd=\"root\",                  #password for user\n",
    "  database=\"euro_mart\",           #database name\n",
    ")"
   ]
  },
  {
   "cell_type": "markdown",
   "metadata": {},
   "source": [
    "<h2><strong>Load Data (Jupyter Notebook or VS Code)<strong></h2>\n",
    "<p><span style=\"color: #808080;\"> The data is loaded to Jupyter Notebook from MySQL, this actively removes all the null values in rows by default, which is make data one step closer for it to be cleaned</span></p>"
   ]
  },
  {
   "cell_type": "markdown",
   "metadata": {},
   "source": [
    "<h3><span style=\"color: #808080;\">Retrieve data from a MySQL database table and load it into a pandas DataFrame for further analysis in Jupyter Notebook</span></h3>\n",
    "<p data-sourcepos=\"3:1-3:41\"><span style=\"color: #ffcc00;\">Code Explanation:</span></p>\n",
    "<ul>\n",
    "<li ><span style=\"color: #808080;\">query1 = \"Use euro_mart; establishes connection with correct database</span></li>\n",
    "<li ><span style=\"color: #808080;\">query = \"select * from euromart_table; selects all columns (*) from the table named euromart_table</span></li>\n",
    "<li ><span style=\"color: #808080;\">df = pd.read_sql(query, Connection); execute the defined query (query) on the established connection (Connection). The result is stored in a pandas DataFrame named df</span></li>"
   ]
  },
  {
   "cell_type": "code",
   "execution_count": 19,
   "metadata": {},
   "outputs": [],
   "source": [
    "query1 = \"Use euro_mart;\" # establish connection with correct database\n",
    "query = \"select * from euromart_table;\" #select all columsn in database/table\n",
    "df = pd.read_sql(query,Connection) #Execute query and store in dataframe df"
   ]
  },
  {
   "cell_type": "markdown",
   "metadata": {},
   "source": [
    "# <a id='toc3_'></a>[Familiarize with Data & Identifying the Target Variable ](#toc0_)"
   ]
  },
  {
   "cell_type": "markdown",
   "metadata": {},
   "source": [
    "<h2><strong>Explore the provided data (column names, data types)<strong></h2>\n",
    "<p><span style=\"color: #808080;\"> We need to understand the data before cleaning the data and also cross verify if all the required data are provided by Euromart</span></p>"
   ]
  },
  {
   "cell_type": "markdown",
   "metadata": {},
   "source": [
    "<h3><span style=\"color: #808080;\">Overview of data</span></h3>\n",
    "<p data-sourcepos=\"3:1-3:41\"><span style=\"color: #ffcc00;\">Code Explanation:</span></p>\n",
    "<ul>\n",
    "<li ><span style=\"color: #808080;\">df.head(); Let's see the data by displaying the first 5 rows</span></li>\n",
    "<li ><span style=\"color: #808080;\">df.tail(); Let's see the last 5 rows</span></li>\n",
    "<li ><span style=\"color: #808080;\">df.shape is used to get the dimensions (number of rows and columns) of data</span></li>\n",
    "<li ><span style=\"color: #808080;\">df.size is used to get the total number of elements in a pandas</span></li>\n",
    "<li ><span style=\"color: #808080;\">df.info() - used to display concise information about</span></li>\n",
    "</ul>\n",
    "\n",
    "<p data-sourcepos=\"3:1-3:41\"><strong><span style=\"color: #99cc00;\">Interpretation:</span></strong></p>\n",
    "<ul>\n",
    "<li ><span style=\"color: #808080;\">Structured Data: Data provided is in table format</span></li>\n",
    "<li ><span style=\"color: #808080;\">Dimensions (17 Columns x 8047 Rows, and has 1,36,799 elements in it) of the DataFrame or data</span></li>\n",
    "<li ><span style=\"color: #808080;\">Column Data Types: Observed mix of data type of each column (e.g., object, float, int, etc.)</span></li>\n",
    "<li ><span style=\"color: #808080;\">Also note that all categorical/qualitative variables are Nominal in nature (it has no specific orders)</span></li>\n",
    "<li ><span style=\"color: #808080;\">Non-Null Counts (no Null values observed) in each column.</span></li>\n",
    "<li ><span style=\"color: #808080;\">Memory Usage: An estimate of the memory usage is 1.0+ MB</span></li>\n",
    "</ul>"
   ]
  },
  {
   "cell_type": "code",
   "execution_count": 20,
   "metadata": {},
   "outputs": [
    {
     "data": {
      "text/html": [
       "<div>\n",
       "<style scoped>\n",
       "    .dataframe tbody tr th:only-of-type {\n",
       "        vertical-align: middle;\n",
       "    }\n",
       "\n",
       "    .dataframe tbody tr th {\n",
       "        vertical-align: top;\n",
       "    }\n",
       "\n",
       "    .dataframe thead th {\n",
       "        text-align: right;\n",
       "    }\n",
       "</style>\n",
       "<table border=\"1\" class=\"dataframe\">\n",
       "  <thead>\n",
       "    <tr style=\"text-align: right;\">\n",
       "      <th></th>\n",
       "      <th>Order ID</th>\n",
       "      <th>Order Date</th>\n",
       "      <th>Customer Name</th>\n",
       "      <th>Country</th>\n",
       "      <th>State</th>\n",
       "      <th>City</th>\n",
       "      <th>Region</th>\n",
       "      <th>Segment</th>\n",
       "      <th>Ship Mode</th>\n",
       "      <th>Category</th>\n",
       "      <th>Sub-Category</th>\n",
       "      <th>Product Name</th>\n",
       "      <th>Discount</th>\n",
       "      <th>Sales</th>\n",
       "      <th>Profit</th>\n",
       "      <th>Quantity</th>\n",
       "      <th>Feedback?</th>\n",
       "    </tr>\n",
       "  </thead>\n",
       "  <tbody>\n",
       "    <tr>\n",
       "      <th>0</th>\n",
       "      <td>BN-2011-7407039</td>\n",
       "      <td>1/1/2011</td>\n",
       "      <td>Ruby Patel</td>\n",
       "      <td>Sweden</td>\n",
       "      <td>Stockholm</td>\n",
       "      <td>Stockholm</td>\n",
       "      <td>North</td>\n",
       "      <td>Home Office</td>\n",
       "      <td>Economy Plus</td>\n",
       "      <td>Office Supplies</td>\n",
       "      <td>Paper</td>\n",
       "      <td>Enermax Note Cards, Premium</td>\n",
       "      <td>0.5</td>\n",
       "      <td>45</td>\n",
       "      <td>-26</td>\n",
       "      <td>3</td>\n",
       "      <td>FALSE</td>\n",
       "    </tr>\n",
       "    <tr>\n",
       "      <th>1</th>\n",
       "      <td>AZ-2011-9050313</td>\n",
       "      <td>1/3/2011</td>\n",
       "      <td>Summer Hayward</td>\n",
       "      <td>United Kingdom</td>\n",
       "      <td>England</td>\n",
       "      <td>Southport</td>\n",
       "      <td>North</td>\n",
       "      <td>Consumer</td>\n",
       "      <td>Economy</td>\n",
       "      <td>Furniture</td>\n",
       "      <td>Bookcases</td>\n",
       "      <td>Dania Corner Shelving, Traditional</td>\n",
       "      <td>0.0</td>\n",
       "      <td>854</td>\n",
       "      <td>290</td>\n",
       "      <td>7</td>\n",
       "      <td>TRUE</td>\n",
       "    </tr>\n",
       "    <tr>\n",
       "      <th>2</th>\n",
       "      <td>AZ-2011-6674300</td>\n",
       "      <td>1/4/2011</td>\n",
       "      <td>Devin Huddleston</td>\n",
       "      <td>France</td>\n",
       "      <td>Auvergne-Rhône-Alpes</td>\n",
       "      <td>Valence</td>\n",
       "      <td>Central</td>\n",
       "      <td>Consumer</td>\n",
       "      <td>Economy</td>\n",
       "      <td>Office Supplies</td>\n",
       "      <td>Art</td>\n",
       "      <td>Binney &amp; Smith Sketch Pad, Easy-Erase</td>\n",
       "      <td>0.0</td>\n",
       "      <td>140</td>\n",
       "      <td>21</td>\n",
       "      <td>3</td>\n",
       "      <td>TRUE</td>\n",
       "    </tr>\n",
       "    <tr>\n",
       "      <th>3</th>\n",
       "      <td>BN-2011-2819714</td>\n",
       "      <td>1/4/2011</td>\n",
       "      <td>Mary Parker</td>\n",
       "      <td>United Kingdom</td>\n",
       "      <td>England</td>\n",
       "      <td>Birmingham</td>\n",
       "      <td>North</td>\n",
       "      <td>Corporate</td>\n",
       "      <td>Economy</td>\n",
       "      <td>Office Supplies</td>\n",
       "      <td>Art</td>\n",
       "      <td>Boston Markers, Easy-Erase</td>\n",
       "      <td>0.5</td>\n",
       "      <td>27</td>\n",
       "      <td>-22</td>\n",
       "      <td>2</td>\n",
       "      <td>TRUE</td>\n",
       "    </tr>\n",
       "    <tr>\n",
       "      <th>4</th>\n",
       "      <td>BN-2011-2819714</td>\n",
       "      <td>1/4/2011</td>\n",
       "      <td>Mary Parker</td>\n",
       "      <td>United Kingdom</td>\n",
       "      <td>England</td>\n",
       "      <td>Birmingham</td>\n",
       "      <td>North</td>\n",
       "      <td>Corporate</td>\n",
       "      <td>Economy</td>\n",
       "      <td>Office Supplies</td>\n",
       "      <td>Storage</td>\n",
       "      <td>Eldon Folders, Single Width</td>\n",
       "      <td>0.5</td>\n",
       "      <td>17</td>\n",
       "      <td>-1</td>\n",
       "      <td>2</td>\n",
       "      <td>TRUE</td>\n",
       "    </tr>\n",
       "  </tbody>\n",
       "</table>\n",
       "</div>"
      ],
      "text/plain": [
       "          Order ID Order Date     Customer Name         Country  \\\n",
       "0  BN-2011-7407039   1/1/2011        Ruby Patel          Sweden   \n",
       "1  AZ-2011-9050313   1/3/2011    Summer Hayward  United Kingdom   \n",
       "2  AZ-2011-6674300   1/4/2011  Devin Huddleston          France   \n",
       "3  BN-2011-2819714   1/4/2011       Mary Parker  United Kingdom   \n",
       "4  BN-2011-2819714   1/4/2011       Mary Parker  United Kingdom   \n",
       "\n",
       "                  State        City   Region      Segment     Ship Mode  \\\n",
       "0             Stockholm   Stockholm    North  Home Office  Economy Plus   \n",
       "1               England   Southport    North     Consumer       Economy   \n",
       "2  Auvergne-Rhône-Alpes     Valence  Central     Consumer       Economy   \n",
       "3               England  Birmingham    North    Corporate       Economy   \n",
       "4               England  Birmingham    North    Corporate       Economy   \n",
       "\n",
       "          Category Sub-Category                           Product Name  \\\n",
       "0  Office Supplies        Paper            Enermax Note Cards, Premium   \n",
       "1        Furniture    Bookcases     Dania Corner Shelving, Traditional   \n",
       "2  Office Supplies          Art  Binney & Smith Sketch Pad, Easy-Erase   \n",
       "3  Office Supplies          Art             Boston Markers, Easy-Erase   \n",
       "4  Office Supplies      Storage            Eldon Folders, Single Width   \n",
       "\n",
       "   Discount  Sales  Profit  Quantity Feedback?  \n",
       "0       0.5     45     -26         3     FALSE  \n",
       "1       0.0    854     290         7      TRUE  \n",
       "2       0.0    140      21         3      TRUE  \n",
       "3       0.5     27     -22         2      TRUE  \n",
       "4       0.5     17      -1         2      TRUE  "
      ]
     },
     "execution_count": 20,
     "metadata": {},
     "output_type": "execute_result"
    }
   ],
   "source": [
    "df.head()"
   ]
  },
  {
   "cell_type": "code",
   "execution_count": 21,
   "metadata": {},
   "outputs": [
    {
     "data": {
      "text/plain": [
       "(8047, 17)"
      ]
     },
     "execution_count": 21,
     "metadata": {},
     "output_type": "execute_result"
    }
   ],
   "source": [
    "df.shape"
   ]
  },
  {
   "cell_type": "code",
   "execution_count": 22,
   "metadata": {},
   "outputs": [
    {
     "data": {
      "text/plain": [
       "136799"
      ]
     },
     "execution_count": 22,
     "metadata": {},
     "output_type": "execute_result"
    }
   ],
   "source": [
    "df.size"
   ]
  },
  {
   "cell_type": "code",
   "execution_count": 23,
   "metadata": {},
   "outputs": [
    {
     "name": "stdout",
     "output_type": "stream",
     "text": [
      "<class 'pandas.core.frame.DataFrame'>\n",
      "RangeIndex: 8047 entries, 0 to 8046\n",
      "Data columns (total 17 columns):\n",
      " #   Column         Non-Null Count  Dtype  \n",
      "---  ------         --------------  -----  \n",
      " 0   Order ID       8047 non-null   object \n",
      " 1   Order Date     8047 non-null   object \n",
      " 2   Customer Name  8047 non-null   object \n",
      " 3   Country        8047 non-null   object \n",
      " 4   State          8047 non-null   object \n",
      " 5   City           8047 non-null   object \n",
      " 6   Region         8047 non-null   object \n",
      " 7   Segment        8047 non-null   object \n",
      " 8   Ship Mode      8047 non-null   object \n",
      " 9   Category       8047 non-null   object \n",
      " 10  Sub-Category   8047 non-null   object \n",
      " 11  Product Name   8047 non-null   object \n",
      " 12  Discount       8047 non-null   float64\n",
      " 13  Sales          8047 non-null   int64  \n",
      " 14  Profit         8047 non-null   int64  \n",
      " 15  Quantity       8047 non-null   int64  \n",
      " 16  Feedback?      8047 non-null   object \n",
      "dtypes: float64(1), int64(3), object(13)\n",
      "memory usage: 1.0+ MB\n"
     ]
    }
   ],
   "source": [
    "df.info()"
   ]
  },
  {
   "cell_type": "markdown",
   "metadata": {
    "jp-MarkdownHeadingCollapsed": true
   },
   "source": [
    "<h2><strong>Identify target variable based on objective<strong></h2>\n",
    "<p><span style=\"color: #808080;\">Once we are clear with data, for further analysis we have to fix target variable and feature variables for performing EDA</span></p>"
   ]
  },
  {
   "cell_type": "markdown",
   "metadata": {},
   "source": [
    "<p data-sourcepos=\"3:1-3:41\"><strong><span style=\"color: #99cc00;\">Fix Target value:</span></strong></p>\n",
    "<ul>\n",
    "<li ><span style=\"color: #808080;\">From the data and from problem statement we understand that<strong> target variables are Profit and Sales</strong></span></li>\n",
    "<li ><span style=\"color: #808080;\">Feature variables are remaining columns like Country, State, City, Region, etc..,</span></li>\n",
    "<li ><span style=\"color: #808080;\">Now we are clear to perform data cleaning and EDA analaysis</span></li>\n",
    "</ul>"
   ]
  },
  {
   "cell_type": "markdown",
   "metadata": {},
   "source": [
    "# <a id='toc4_'></a>[Data Preparation & Transformation ](#toc0_)"
   ]
  },
  {
   "cell_type": "markdown",
   "metadata": {},
   "source": [
    "<h2><strong>Data Cleaning</strong></h2>\n",
    "<p><span style=\"color: #808080;\"> We need to perform steps mentioned below to clean data</span></p>\n",
    "<ul>\n",
    "<li ><strong><span style=\"color: #808080;\">Steps involved in handling missing values (imputation, deletion)</strong></span></li>\n",
    "    <ul>\n",
    "        <li ><span style=\"color: #808080;\">We accept missing values if data is small in dimension</span></li>\n",
    "        <li ><span style=\"color: #808080;\">We delete missing values if:</span></li>\n",
    "    <ul>\n",
    "            <li ><span style=\"color: #808080;\">When more than 80% of data is missing/null values</span></li>\n",
    "            <li ><span style=\"color: #808080;\">When the percentage of missing values are very small, deleting will have minimal effect on analysis</span></li>\n",
    "    </ul>\n",
    "        <li ><span style=\"color: #808080;\">Replacing the missing values by imputation</span></li>\n",
    "    <ul>\n",
    "            <li ><span style=\"color: #808080;\">Imputation: We replace the missing values by Mean, Median or Mode of the variable or perform fill null values(fillna method) with the desired value</span></li>\n",
    "    </ul>\n",
    "    </ul>\n",
    "        \n",
    "<li ><strong><span style=\"color: #808080;\">Data Reduction: Remove unwanted data (if present) which are not required for analysis</strong></span></li>\n",
    "    <ul>\n",
    "            <li ><span style=\"color: #808080;\">Delete unwanted columns</span></li>\n",
    "            <li ><span style=\"color: #808080;\">Delete duplicate rows</span></li>\n",
    "    </ul>\n",
    "<li ><strong><span style=\"color: #808080;\">Format data types (numerical & categorical variables)</strong></span></li>\n",
    "<li ><strong><span style=\"color: #808080;\">Outlier detection and handling (we ignore this step because outliers are valid in our case)</strong></span></li>\n",
    "    <ul>\n",
    "            <li ><span style=\"color: #808080;\">When data has extreme values that could effect our analysis, we either replace them with Mean or Median or Mode values or we accept the outliers</span></li>\n",
    "                    <li ><span style=\"color: #808080;\">We identify the outliers by plotting the Box plot</span></li>\n",
    "    </ul>\n",
    "</ul>"
   ]
  },
  {
   "cell_type": "markdown",
   "metadata": {},
   "source": [
    "<h3><span style=\"color: #808080;\">Handle missing values (imputation or deletion)</span></h3>\n",
    "<p data-sourcepos=\"3:1-3:41\"><span style=\"color: #ffcc00;\">Code Explanation:</span></p>\n",
    "<ul>\n",
    "<li ><span style=\"color: #808080;\">df.isnull().sum() - Gives sum of all null values in each column</span></li>\n",
    "<li ><span style=\"color: #808080;\">df.notnull().sum() - Gives sum of all not null unique values in each column</span></li>\n",
    "</ul>\n",
    "\n",
    "<p data-sourcepos=\"3:1-3:41\"><strong><span style=\"color: #99cc00;\">Interpretation:</span></strong></p>\n",
    "<ul>\n",
    "<li ><span style=\"color: #808080;\">Data has no null values, so no need to perform process to handle missing values</span></li>\n",
    "</ul>"
   ]
  },
  {
   "cell_type": "code",
   "execution_count": 24,
   "metadata": {},
   "outputs": [
    {
     "data": {
      "text/plain": [
       "Order ID         0\n",
       "Order Date       0\n",
       "Customer Name    0\n",
       "Country          0\n",
       "State            0\n",
       "City             0\n",
       "Region           0\n",
       "Segment          0\n",
       "Ship Mode        0\n",
       "Category         0\n",
       "Sub-Category     0\n",
       "Product Name     0\n",
       "Discount         0\n",
       "Sales            0\n",
       "Profit           0\n",
       "Quantity         0\n",
       "Feedback?        0\n",
       "dtype: int64"
      ]
     },
     "execution_count": 24,
     "metadata": {},
     "output_type": "execute_result"
    }
   ],
   "source": [
    "df.isnull().sum()"
   ]
  },
  {
   "cell_type": "code",
   "execution_count": 25,
   "metadata": {},
   "outputs": [
    {
     "data": {
      "text/plain": [
       "Order ID         8047\n",
       "Order Date       8047\n",
       "Customer Name    8047\n",
       "Country          8047\n",
       "State            8047\n",
       "City             8047\n",
       "Region           8047\n",
       "Segment          8047\n",
       "Ship Mode        8047\n",
       "Category         8047\n",
       "Sub-Category     8047\n",
       "Product Name     8047\n",
       "Discount         8047\n",
       "Sales            8047\n",
       "Profit           8047\n",
       "Quantity         8047\n",
       "Feedback?        8047\n",
       "dtype: int64"
      ]
     },
     "execution_count": 25,
     "metadata": {},
     "output_type": "execute_result"
    }
   ],
   "source": [
    "df.notnull().sum()"
   ]
  },
  {
   "cell_type": "markdown",
   "metadata": {},
   "source": [
    "<h3><span style=\"color: #808080;\">Data Reduction: Remove unwanted columns or rows</span></h3>\n",
    "<li ><span style=\"color: #808080;\">There are no unwanted columns to delete, so we can check for duplicated rows and delete the duplicates</span></li>\n",
    "<p data-sourcepos=\"3:1-3:41\"><span style=\"color: #ffcc00;\">Code Explanation:</span></p>\n",
    "<ul>\n",
    "<li ><span style=\"color: #808080;\">df.duplicated().sum(); This shows number of duplicated rows</span></li>\n",
    "<li ><span style=\"color: #808080;\">df = df.drop_duplicates(); This removes duplicated rows</span></li>\n",
    "</ul>\n",
    "\n",
    "<p data-sourcepos=\"3:1-3:41\"><strong><span style=\"color: #99cc00;\">Interpretation:</span></strong></p>\n",
    "<ul>\n",
    "<li ><span style=\"color: #808080;\">It is noted that there are 2 rows which are repeated. We have removed duplicated rows</span></li>\n",
    "</ul>"
   ]
  },
  {
   "cell_type": "code",
   "execution_count": 26,
   "metadata": {},
   "outputs": [
    {
     "data": {
      "text/plain": [
       "2"
      ]
     },
     "execution_count": 26,
     "metadata": {},
     "output_type": "execute_result"
    }
   ],
   "source": [
    "df.duplicated().sum()"
   ]
  },
  {
   "cell_type": "code",
   "execution_count": 27,
   "metadata": {},
   "outputs": [],
   "source": [
    "df = df.drop_duplicates()"
   ]
  },
  {
   "cell_type": "code",
   "execution_count": 28,
   "metadata": {},
   "outputs": [
    {
     "data": {
      "text/plain": [
       "0"
      ]
     },
     "execution_count": 28,
     "metadata": {},
     "output_type": "execute_result"
    }
   ],
   "source": [
    "df.duplicated().sum()"
   ]
  },
  {
   "cell_type": "markdown",
   "metadata": {},
   "source": [
    "<h3><span style=\"color: #808080;\">Rename of columns</span></h3>\n",
    "<p data-sourcepos=\"3:1-3:41\"><span style=\"color: #ffcc00;\">Code Explanation:</span></p>\n",
    "<ul>\n",
    "<li ><span style=\"color: #808080;\">df.rename(columns={'Feedback?': 'Feedback'}, inplace=True) - This renames the column name, Inplace=True; this permanently alters the name </span></li>\n",
    "<li ><span style=\"color: #808080;\">df.columns; This display columns for cross verifying that renaming step is performed</span></li>\n",
    "</ul>\n",
    "\n",
    "<p data-sourcepos=\"3:1-3:41\"><strong><span style=\"color: #99cc00;\">Interpretation:</span></strong></p>\n",
    "<ul>\n",
    "<li ><span style=\"color: #808080;\">Feedback column is renamed by removing special character in column</span></li>\n",
    "</ul>"
   ]
  },
  {
   "cell_type": "code",
   "execution_count": 29,
   "metadata": {
    "scrolled": true
   },
   "outputs": [
    {
     "data": {
      "text/plain": [
       "Index(['Order ID', 'Order Date', 'Customer Name', 'Country', 'State', 'City',\n",
       "       'Region', 'Segment', 'Ship Mode', 'Category', 'Sub-Category',\n",
       "       'Product Name', 'Discount', 'Sales', 'Profit', 'Quantity', 'Feedback'],\n",
       "      dtype='object')"
      ]
     },
     "execution_count": 29,
     "metadata": {},
     "output_type": "execute_result"
    }
   ],
   "source": [
    "df.rename(columns={'Feedback?': 'Feedback'}, inplace=True)\n",
    "df.columns"
   ]
  },
  {
   "cell_type": "markdown",
   "metadata": {},
   "source": [
    "<h2><strong>Feature Engineering (Create new features/variables)</strong></h2>\n",
    "<p><span style=\"color: #808080;\"> We derive new variables or features by combining multiple columns or derive new features by performing calculation </span></p>\n",
    "    \n",
    "<p><span style=\"color: #808080;\"> Here we need to create new columns for easier analysis</span></p>\n",
    "<ul>\n",
    "<li ><span style=\"color: #808080;\">Create new columns by extracting date, month, year and generate new columns like Quarter and Weeks</span></li>\n",
    "<li ><span style=\"color: #808080;\">Create new columns by calculating Total sales, Total profit, Profit margin and discount percentage</span></li>\n",
    "</ul>"
   ]
  },
  {
   "cell_type": "markdown",
   "metadata": {},
   "source": [
    "<h3><span style=\"color: #808080;\">Create new features</span></h3>\n",
    "<p data-sourcepos=\"3:1-3:41\"><span style=\"color: #ffcc00;\">Code Explanation:</span></p>\n",
    "<ul>\n",
    "<li ><span style=\"color: #808080;\">df['Year'] = df['Order Date'].dt.year; Extract and create a new column named Year form Order date column</span></li>\n",
    "\n",
    "<li ><span style=\"color: #808080;\">df['Month'] = df['Order Date'].dt.month; Extract and create a new column named Date form Order date column </span></li>\n",
    "\n",
    "<li ><span style=\"color: #808080;\">df['Day'] = df['Order Date'].dt.day; Extract and create a new column named Year Day Order date column</span></li>\n",
    "\n",
    "<li ><span style=\"color: #808080;\">quarter_dict = {1 : 'Q1', 2 : 'Q1', 3 : 'Q1',4 : 'Q2'......}; this defines a dictionary which maps month to corresponding Quarters</span></li>\n",
    "\n",
    "<li ><span style=\"color: #808080;\">df['Quarter'] = df['Month'].map(quarter_dict);  this uses the map method to apply the quarter_dict dictionary to the \"Quarter\" column</span></li>\n",
    "\n",
    "<li ><span style=\"color: #808080;\">week_dict = {1: 'W1', 2: 'W1', 3: 'W1'......};  this defines a dictionary which maps days to corresponding Week</span></li>\n",
    "\n",
    "<li ><span style=\"color: #808080;\">df['Week'] = None; Initialize 'Week' column with None values</span></li>\n",
    "\n",
    "<li ><span style=\"color: #808080;\">df['Week'] = df['Day'].map(week_dict); this uses the map method to apply the week_dict dictionary to the \"Week\" column</span></li>\n",
    "\n",
    "<li ><span style=\"color: #808080;\">df.info; gives list of all columns and its details for cross verifying on feature engineering</span></li>\n",
    "\n",
    "<li ><span style=\"color: #808080;\">df['Order Size'] = df.groupby('Order ID')['Product Name']; Create a new column based on number of times order ID is reapeated</span></li>\n",
    "</ul>\n",
    "\n",
    "<p data-sourcepos=\"3:1-3:41\"><strong><span style=\"color: #99cc00;\">Interpretation:</span></strong></p>\n",
    "<ul>\n",
    "<li ><span style=\"color: #808080;\">We are set with feature engineering by creating multiple columns for easier analysis</span></li>\n",
    "\n",
    "</ul>"
   ]
  },
  {
   "cell_type": "code",
   "execution_count": 30,
   "metadata": {},
   "outputs": [
    {
     "name": "stdout",
     "output_type": "stream",
     "text": [
      "<class 'pandas.core.frame.DataFrame'>\n",
      "Index: 8045 entries, 0 to 8046\n",
      "Data columns (total 26 columns):\n",
      " #   Column         Non-Null Count  Dtype         \n",
      "---  ------         --------------  -----         \n",
      " 0   Order ID       8045 non-null   object        \n",
      " 1   Order Date     8045 non-null   datetime64[ns]\n",
      " 2   Customer Name  8045 non-null   object        \n",
      " 3   Country        8045 non-null   object        \n",
      " 4   State          8045 non-null   object        \n",
      " 5   City           8045 non-null   object        \n",
      " 6   Region         8045 non-null   object        \n",
      " 7   Segment        8045 non-null   object        \n",
      " 8   Ship Mode      8045 non-null   object        \n",
      " 9   Category       8045 non-null   object        \n",
      " 10  Sub-Category   8045 non-null   object        \n",
      " 11  Product Name   8045 non-null   object        \n",
      " 12  Discount       8045 non-null   float64       \n",
      " 13  Sales          8045 non-null   int64         \n",
      " 14  Profit         8045 non-null   int64         \n",
      " 15  Quantity       8045 non-null   int64         \n",
      " 16  Feedback       8045 non-null   object        \n",
      " 17  Year           8045 non-null   int32         \n",
      " 18  Month          8045 non-null   int32         \n",
      " 19  Day            8045 non-null   int32         \n",
      " 20  Quarter        8045 non-null   object        \n",
      " 21  Week           8045 non-null   object        \n",
      " 22  Total Sales    8045 non-null   int64         \n",
      " 23  Total Profit   8045 non-null   int64         \n",
      " 24  Profit Margin  8045 non-null   float64       \n",
      " 25  Order Size     8045 non-null   int64         \n",
      "dtypes: datetime64[ns](1), float64(2), int32(3), int64(6), object(14)\n",
      "memory usage: 1.6+ MB\n"
     ]
    }
   ],
   "source": [
    "# Convert the \"Order Date\" column to datetime data type\n",
    "df['Order Date'] = pd.to_datetime(df['Order Date'])\n",
    "\n",
    "# The year and month of the order date.\n",
    "df['Year'] = df['Order Date'].dt.year\n",
    "df['Month'] = df['Order Date'].dt.month\n",
    "df['Day'] = df['Order Date'].dt.day\n",
    "\n",
    "\n",
    "# Creating a new colum that has Quarters in the year\n",
    "quarter_dict = {\n",
    "    1 : 'Q1', 2 : 'Q1', 3 : 'Q1',\n",
    "    4 : 'Q2', 5 : 'Q2', 6 : 'Q2',\n",
    "    7 : 'Q3', 8 : 'Q3', 9 : 'Q3',\n",
    "    10 : 'Q4', 11 : 'Q4', 12 : 'Q4',\n",
    "}\n",
    "df['Quarter'] = df['Month'].map(quarter_dict)\n",
    "\n",
    "# Creating a new colum that has weeks in the year\n",
    "week_dict = {\n",
    "    1: 'W1', 2: 'W1', 3: 'W1', 4: 'W1', 5: 'W1', 6: 'W1', 7: 'W1',\n",
    "    8: 'W2', 9: 'W2', 10: 'W2', 11: 'W2', 12: 'W2', 13: 'W2', 14: 'W2',\n",
    "    15: 'W3', 16: 'W3', 17: 'W3', 18: 'W3', 19: 'W3', 20: 'W3', 21: 'W3',\n",
    "    22: 'W4', 23: 'W4', 24: 'W4', 25: 'W4', 26: 'W4', 27: 'W4', 28: 'W4',\n",
    "    29: 'W5', 30: 'W5', 31: 'W5',\n",
    "}\n",
    "df['Week'] = None  # Initialize 'Week' column with None values\n",
    "df['Week'] = df['Day'].map(week_dict)\n",
    "\n",
    "\n",
    "# The total revenue generated from sales.\n",
    "df['Total Sales'] = df['Sales'] * df['Quantity']\n",
    "\n",
    "# The total profit generated from sales.\n",
    "df['Total Profit'] = df['Profit'] * df['Quantity']\n",
    "\n",
    "# Creating a new column by calulating profit margin\n",
    "df['Profit Margin'] = (df['Total Profit'] / df['Total Sales'])\n",
    "\n",
    "# Creating a new colum that shows number of times the Order ID is repeated\n",
    "df['Order Size'] = df.groupby('Order ID')['Product Name'].transform('size')\n",
    "\n",
    "df.info();"
   ]
  },
  {
   "cell_type": "markdown",
   "metadata": {},
   "source": [
    "<h2><strong>Overview of data before analysis</strong></h2>\n",
    "<p><span style=\"color: #808080;\">After Data Wrangling, we can check the columns once before we proceed to perform analysis</span></p>"
   ]
  },
  {
   "cell_type": "code",
   "execution_count": 31,
   "metadata": {},
   "outputs": [
    {
     "data": {
      "text/plain": [
       "Index(['Order ID', 'Order Date', 'Customer Name', 'Country', 'State', 'City',\n",
       "       'Region', 'Segment', 'Ship Mode', 'Category', 'Sub-Category',\n",
       "       'Product Name', 'Discount', 'Sales', 'Profit', 'Quantity', 'Feedback',\n",
       "       'Year', 'Month', 'Day', 'Quarter', 'Week', 'Total Sales',\n",
       "       'Total Profit', 'Profit Margin', 'Order Size'],\n",
       "      dtype='object')"
      ]
     },
     "execution_count": 31,
     "metadata": {},
     "output_type": "execute_result"
    }
   ],
   "source": [
    "df.columns"
   ]
  },
  {
   "cell_type": "markdown",
   "metadata": {
    "collapsed": true,
    "jupyter": {
     "outputs_hidden": true
    }
   },
   "source": [
    "<p data-sourcepos=\"3:1-3:41\"><span style=\"color: #ffcc00;\">Code Explanation:</span></p>\n",
    "<ul>\n",
    "<li ><span style=\"color: #808080;\">df.columns; Display all columns in the data frame</span></li>\n",
    "</ul>\n",
    "\n",
    "<p data-sourcepos=\"3:1-3:41\"><strong><span style=\"color: #99cc00;\">Interpretation:</span></strong></p>\n",
    "<ul>\n",
    "<li ><span style=\"color: #808080;\">Description of variables</span></li>\n",
    "</ul>\n",
    "\n",
    "<table style=\"height: 374px; width: 1000px;\">\n",
    "<tbody>\n",
    "<tr style=\"height: 18px;\">\n",
    "<td style=\"width: 116.75px; height: 18px; padding-left: 30px;\"><strong>Variables/Columns</strong></td>\n",
    "<td style=\"width: 160.85px; height: 18px; padding-left: 30px;\"><strong>Description</strong></td>\n",
    "</tr>\n",
    "<tr style=\"height: 1.03334px;\">\n",
    "<td style=\"width: 145.75px; height: 1.03334px;\"><span style=\"color: #808080;\">Order ID</span></td>\n",
    "<td style=\"width: 189.85px; height: 1.03334px;\"><span style=\"color: #999999;\"><em>Unique identifier for each sales transaction</em></span></td>\n",
    "\n",
    "</tr>\n",
    "<tr style=\"height: 1.03334px;\">\n",
    "<td style=\"width: 145.75px; height: 1.03334px;\"><span style=\"color: #808080;\">Order Date</span></td>\n",
    "<td style=\"width: 189.85px; height: 1.03334px;\"><span style=\"color: #999999;\"><em>Date and time of the purchase</em></span></td>\n",
    "\n",
    "</tr>\n",
    "<tr style=\"height: 1.03334px;\">\n",
    "<td style=\"width: 145.75px; height: 1.03334px;\"><span style=\"color: #808080;\">Customer Name</span></td>\n",
    "<td style=\"width: 189.85px; height: 1.03334px;\"><span style=\"color: #999999;\"><em> Name of the customer</em></span></td>\n",
    "\n",
    "</tr>\n",
    "<tr style=\"height: 1.03334px;\">\n",
    "<td style=\"width: 145.75px; height: 1.03334px;\"><span style=\"color: #808080;\">Country, State, City, Region</span></td>\n",
    "<td style=\"width: 189.85px; height: 1.03334px;\"><span style=\"color: #999999;\"><em>Location of sales</em></span></td>\n",
    "\n",
    "</tr>\n",
    "<tr style=\"height: 1.03334px;\">\n",
    "<td style=\"width: 145.75px; height: 1.03334px;\"><span style=\"color: #808080;\">Segment</span></td>\n",
    "<td style=\"width: 189.85px; height: 1.03334px;\"><span style=\"color: #999999;\"><em>Types of customers</em></span></td>\n",
    "\n",
    "</tr>\n",
    "<tr style=\"height: 1.03334px;\">\n",
    "<td style=\"width: 145.75px; height: 1.03334px;\"><span style=\"color: #808080;\">Ship Mode</span></td>\n",
    "<td style=\"width: 189.85px; height: 1.03334px;\"><span style=\"color: #999999;\"><em> Shipping method chosen by the customer</em></span></td>\n",
    "\n",
    "</tr>\n",
    "<tr style=\"height: 1.03334px;\">\n",
    "<td style=\"width: 145.75px; height: 1.03334px;\"><span style=\"color: #808080;\">Category & Sub-Category</span></td>\n",
    "<td style=\"width: 189.85px; height: 1.03334px;\"><span style=\"color: #999999;\"><em>Purchased product category and more specific sub category</em></span></td>\n",
    "\n",
    "</tr>\n",
    "<tr style=\"height: 1.03334px;\">\n",
    "<td style=\"width: 145.75px; height: 1.03334px;\"><span style=\"color: #808080;\">Product Name</span></td>\n",
    "<td style=\"width: 189.85px; height: 1.03334px;\"><span style=\"color: #999999;\"><em>Name of the specific product purchased</em></span></td>\n",
    "\n",
    "</tr>\n",
    "<tr style=\"height: 1.03334px;\">\n",
    "<td style=\"width: 145.75px; height: 1.03334px;\"><span style=\"color: #808080;\">Discount and Discount Percentage</span></td>\n",
    "<td style=\"width: 189.85px; height: 1.03334px;\"><span style=\"color: #999999;\"><em>Discount applied to the purchase (if any)</em></span></td>\n",
    "\n",
    "</tr>\n",
    "<tr style=\"height: 1.03334px;\">\n",
    "<td style=\"width: 145.75px; height: 1.03334px;\"><span style=\"color: #808080;\">Sales</span></td>\n",
    "<td style=\"width: 189.85px; height: 1.03334px;\"><span style=\"color: #999999;\"><em>Total sales amount for the transaction</em></span></td>\n",
    "\n",
    "</tr>\n",
    "<tr style=\"height: 1.03334px;\">\n",
    "<td style=\"width: 145.75px; height: 1.03334px;\"><span style=\"color: #808080;\">Profit</span></td>\n",
    "<td style=\"width: 189.85px; height: 1.03334px;\"><span style=\"color: #999999;\"><em>Profit earned on the transaction</em></span></td>\n",
    "\n",
    "</tr>\n",
    "<tr style=\"height: 1.03334px;\">\n",
    "<td style=\"width: 145.75px; height: 1.03334px;\"><span style=\"color: #808080;\">Quantity</span></td>\n",
    "<td style=\"width: 189.85px; height: 1.03334px;\"><span style=\"color: #999999;\"><em>Quantity of each product purchased in the transaction</em></span></td>\n",
    "\n",
    "</tr>\n",
    "<tr style=\"height: 1.03334px;\">\n",
    "<td style=\"width: 145.75px; height: 1.03334px;\"><span style=\"color: #808080;\">Feedback</span></td>\n",
    "<td style=\"width: 189.85px; height: 1.03334px;\"><span style=\"color: #999999;\"><em>Customer provided feedback on the purchase experience (binary)</em></span></td>\n",
    "\n",
    "</tr>\n",
    "<tr style=\"height: 1.03334px;\">\n",
    "<td style=\"width: 145.75px; height: 1.03334px;\"><span style=\"color: #808080;\">Year, Month, Day, Week, Quarter</span></td>\n",
    "<td style=\"width: 189.85px; height: 1.03334px;\"><span style=\"color: #999999;\"><em>Extracted from Order Date</em></span></td>\n",
    "\n",
    "</tr>\n",
    "<tr style=\"height: 1.03334px;\">\n",
    "<td style=\"width: 145.75px; height: 1.03334px;\"><span style=\"color: #808080;\">Total Sales</span></td>\n",
    "<td style=\"width: 189.85px; height: 1.03334px;\"><span style=\"color: #999999;\"><em>Sales for all items in a transaction (Product of sales and Quantity)</em></span></td>\n",
    "\n",
    "</tr>\n",
    "<tr style=\"height: 1.03334px;\">\n",
    "<td style=\"width: 145.75px; height: 1.03334px;\"><span style=\"color: #808080;\">Total Profit</span></td>\n",
    "<td style=\"width: 189.85px; height: 1.03334px;\"><span style=\"color: #999999;\"><em>Profit for all items in a transaction (Product of Profit and Quantity)</em></span></td>\n",
    "\n",
    "</tr>\n",
    "<tr style=\"height: 1.03334px;\">\n",
    "<td style=\"width: 145.75px; height: 1.03334px;\"><span style=\"color: #808080;\">Profit Margin</span></td>\n",
    "<td style=\"width: 189.85px; height: 1.03334px;\"><span style=\"color: #999999;\"><em>Profit margin per transaction (Total profit over total sales in percentage)</em></span></td>\n",
    "\n",
    "</tr>\n",
    "<tr style=\"height: 1.03334px;\">\n",
    "<td style=\"width: 145.75px; height: 1.03334px;\"><span style=\"color: #808080;\">Order Size</span></td>\n",
    "<td style=\"width: 189.85px; height: 1.03334px;\"><span style=\"color: #999999;\"><em>Gives number of times the order is placed w.r.t order ID</em></span></td>\n",
    "\n",
    "</tr>\n",
    "</tbody>\n",
    "</table>\n",
    "<p>&nbsp;</p>"
   ]
  },
  {
   "cell_type": "markdown",
   "metadata": {},
   "source": [
    "<h2><strong>Export the data to CSV format</strong></h2>\n",
    "<p><span style=\"color: #808080;\">After Data Wrangling, we can export the data for further visualisation in Power Bi</span></p>"
   ]
  },
  {
   "cell_type": "code",
   "execution_count": 32,
   "metadata": {},
   "outputs": [],
   "source": [
    "# df.to_csv(r\"Cleaned Euromart Data form Python\")"
   ]
  }
 ],
 "metadata": {
  "kernelspec": {
   "display_name": "Python 3 (ipykernel)",
   "language": "python",
   "name": "python3"
  },
  "language_info": {
   "codemirror_mode": {
    "name": "ipython",
    "version": 3
   },
   "file_extension": ".py",
   "mimetype": "text/x-python",
   "name": "python",
   "nbconvert_exporter": "python",
   "pygments_lexer": "ipython3",
   "version": "3.12.2"
  }
 },
 "nbformat": 4,
 "nbformat_minor": 4
}
